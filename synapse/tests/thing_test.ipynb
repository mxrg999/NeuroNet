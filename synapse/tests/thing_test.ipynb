{
 "cells": [
  {
   "cell_type": "code",
   "execution_count": 1,
   "metadata": {},
   "outputs": [
    {
     "name": "stdout",
     "output_type": "stream",
     "text": [
      "{\"message\":\"Thing created successfully\",\"id\":\"4:dc4d70a3-c271-4015-8396-2729a21be068:1\",\"name\":\"Phone\",\"description\":\"iPhone 12\",\"metadata\":{\"brand\":\"Apple\",\"model\":\"12\"},\"link\":\"/things/4:dc4d70a3-c271-4015-8396-2729a21be068:1\"}"
     ]
    }
   ],
   "source": [
    "!curl -X POST \"http://localhost:8000/things/\" \\\n",
    "-H \"Content-Type: application/json\" \\\n",
    "-d '{ \\\n",
    "    \"name\": \"Phone\", \\\n",
    "    \"description\": \"iPhone 12\", \\\n",
    "    \"metadata\": {\"brand\": \"Apple\", \"model\": \"12\"}, \\\n",
    "    \"vector\": [0.1, 0.2, 0.3, 0.4, 0.5] \\\n",
    "}'\n"
   ]
  },
  {
   "cell_type": "code",
   "execution_count": 62,
   "metadata": {},
   "outputs": [
    {
     "name": "stdout",
     "output_type": "stream",
     "text": [
      "{\"metadata\":{\"brand\":\"Apple\",\"model\":\"12\"},\"updated_at\":\"2024-05-19T11:25:50.943032\",\"name\":\"Phone\",\"description\":\"iPhone 12\",\"created_at\":\"2024-05-19T11:25:50.943032\",\"vector\":[0.1,0.2,0.3,0.4,0.5],\"id\":\"4:dc4d70a3-c271-4015-8396-2729a21be068:9\"}"
     ]
    }
   ],
   "source": [
    "!curl -X GET \"http://localhost:8000/things/4:dc4d70a3-c271-4015-8396-2729a21be068:9\"\n"
   ]
  },
  {
   "cell_type": "code",
   "execution_count": 70,
   "metadata": {},
   "outputs": [
    {
     "name": "stdout",
     "output_type": "stream",
     "text": [
      "{\"metadata\":{\"brand\":\"Apple\",\"model\":\"12\"},\"updated_at\":\"2024-05-19T11:52:30.318784\",\"name\":\"Phone\",\"description\":\"iPhone 12\",\"created_at\":\"2024-05-19T11:52:30.318784\",\"vector\":[0.1,0.2,0.3,0.4,0.5],\"id\":\"4:dc4d70a3-c271-4015-8396-2729a21be068:13\"}"
     ]
    }
   ],
   "source": [
    "!curl -X GET \"http://localhost:8000/things/name/Phone\"\n"
   ]
  },
  {
   "cell_type": "code",
   "execution_count": 65,
   "metadata": {},
   "outputs": [
    {
     "name": "stdout",
     "output_type": "stream",
     "text": [
      "{\"message\":\"Thing deleted successfully\",\"id\":\"4:dc4d70a3-c271-4015-8396-2729a21be068:9\"}"
     ]
    }
   ],
   "source": [
    "!curl -X DELETE \"http://localhost:8000/things/4:dc4d70a3-c271-4015-8396-2729a21be068:9\"\n"
   ]
  }
 ],
 "metadata": {
  "kernelspec": {
   "display_name": ".venv",
   "language": "python",
   "name": "python3"
  },
  "language_info": {
   "codemirror_mode": {
    "name": "ipython",
    "version": 3
   },
   "file_extension": ".py",
   "mimetype": "text/x-python",
   "name": "python",
   "nbconvert_exporter": "python",
   "pygments_lexer": "ipython3",
   "version": "3.11.2"
  }
 },
 "nbformat": 4,
 "nbformat_minor": 2
}
