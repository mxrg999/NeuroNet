{
 "cells": [
  {
   "cell_type": "code",
   "execution_count": 1,
   "metadata": {},
   "outputs": [
    {
     "name": "stdout",
     "output_type": "stream",
     "text": [
      "{\"message\":\"User created successfully\",\"username\":\"max\",\"email\":\"max@example.com\",\"metadata\":{\"preferences\":{\"theme\":\"dark\",\"notifications\":true}}}"
     ]
    }
   ],
   "source": [
    "!curl -X POST \"http://localhost:8000/users/\" -H \"Content-Type: application/json\" -d '{ \\\n",
    "    \"username\": \"max\", \\\n",
    "    \"email\": \"max@example.com\", \\\n",
    "    \"metadata\": {\"preferences\": {\"theme\": \"dark\", \"notifications\": true}} \\\n",
    "}'\n"
   ]
  },
  {
   "cell_type": "code",
   "execution_count": 2,
   "metadata": {},
   "outputs": [
    {
     "name": "stdout",
     "output_type": "stream",
     "text": [
      "{\"message\":\"Thing created successfully\",\"id\":\"4:dc4d70a3-c271-4015-8396-2729a21be068:15\",\"name\":\"Phone\",\"description\":\"iPhone 12\",\"metadata\":{\"brand\":\"Apple\",\"model\":\"12\"},\"link\":\"/things/4:dc4d70a3-c271-4015-8396-2729a21be068:15\"}"
     ]
    }
   ],
   "source": [
    "!curl -X POST \"http://localhost:8000/things/\" \\\n",
    "-H \"Content-Type: application/json\" \\\n",
    "-d '{ \\\n",
    "    \"name\": \"Phone\", \\\n",
    "    \"description\": \"iPhone 12\", \\\n",
    "    \"metadata\": {\"brand\": \"Apple\", \"model\": \"12\"}, \\\n",
    "    \"vector\": [0.1, 0.2, 0.3, 0.4, 0.5] \\\n",
    "}'\n"
   ]
  },
  {
   "cell_type": "code",
   "execution_count": 1,
   "metadata": {},
   "outputs": [
    {
     "name": "stdout",
     "output_type": "stream",
     "text": [
      "{\"relation_id\":\"5:dc4d70a3-c271-4015-8396-2729a21be068:5\"}"
     ]
    }
   ],
   "source": [
    "!curl -X POST \"http://localhost:8000/relations/\" -H \"Content-Type: application/json\" -d '{ \\\n",
    "    \"source_id\": \"4:dc4d70a3-c271-4015-8396-2729a21be068:7\", \\\n",
    "    \"target_id\": \"4:dc4d70a3-c271-4015-8396-2729a21be068:1\", \\\n",
    "    \"relation_type\": \"CREATED\", \\\n",
    "    \"properties\": {\"timestamp\": \"2024-05-20T10:00:00\", \"metadata\": {\"notes\": \"Created for testing\"}} \\\n",
    "}'\n"
   ]
  },
  {
   "cell_type": "code",
   "execution_count": 38,
   "metadata": {},
   "outputs": [
    {
     "name": "stdout",
     "output_type": "stream",
     "text": [
      "[{\"relation_id\":\"5:dc4d70a3-c271-4015-8396-2729a21be068:4\",\"properties\":{\"metadata\":\"{\\\"notes\\\": \\\"Created for testing\\\"}\",\"timestamp\":\"2024-05-20T10:00:00\"}}]"
     ]
    }
   ],
   "source": [
    "# Get Relations by source_id\n",
    "!curl -G \"http://localhost:8000/relations/\" --data-urlencode \"source_id=4:dc4d70a3-c271-4015-8396-2729a21be068:14\"\n"
   ]
  },
  {
   "cell_type": "code",
   "execution_count": 37,
   "metadata": {},
   "outputs": [
    {
     "name": "stdout",
     "output_type": "stream",
     "text": [
      "[{\"relation_id\":\"5:dc4d70a3-c271-4015-8396-2729a21be068:4\",\"properties\":{\"metadata\":\"{\\\"notes\\\": \\\"Created for testing\\\"}\",\"timestamp\":\"2024-05-20T10:00:00\"}}]"
     ]
    }
   ],
   "source": [
    "!curl -G \"http://localhost:8000/relations/\" --data-urlencode \"target_id=4:dc4d70a3-c271-4015-8396-2729a21be068:15\"\n"
   ]
  },
  {
   "cell_type": "code",
   "execution_count": 36,
   "metadata": {},
   "outputs": [
    {
     "name": "stdout",
     "output_type": "stream",
     "text": [
      "[{\"relation_id\":\"5:dc4d70a3-c271-4015-8396-2729a21be068:4\",\"properties\":{\"metadata\":\"{\\\"notes\\\": \\\"Created for testing\\\"}\",\"timestamp\":\"2024-05-20T10:00:00\"}}]"
     ]
    }
   ],
   "source": [
    "!curl -G \"http://localhost:8000/relations/\" --data-urlencode \"relation_type=CREATED\"\n"
   ]
  },
  {
   "cell_type": "code",
   "execution_count": 35,
   "metadata": {},
   "outputs": [
    {
     "name": "stdout",
     "output_type": "stream",
     "text": [
      "{\"detail\":\"Relation not found\"}"
     ]
    }
   ],
   "source": [
    "!curl -X DELETE \"http://localhost:8000/relations/5:dc4d70a3-c271-4015-8396-2729a21be068:1\"\n"
   ]
  }
 ],
 "metadata": {
  "kernelspec": {
   "display_name": ".venv",
   "language": "python",
   "name": "python3"
  },
  "language_info": {
   "codemirror_mode": {
    "name": "ipython",
    "version": 3
   },
   "file_extension": ".py",
   "mimetype": "text/x-python",
   "name": "python",
   "nbconvert_exporter": "python",
   "pygments_lexer": "ipython3",
   "version": "3.11.2"
  }
 },
 "nbformat": 4,
 "nbformat_minor": 2
}
