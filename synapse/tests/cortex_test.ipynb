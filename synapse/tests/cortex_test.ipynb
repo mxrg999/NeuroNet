{
 "cells": [
  {
   "cell_type": "code",
   "execution_count": null,
   "metadata": {},
   "outputs": [],
   "source": []
  },
  {
   "cell_type": "code",
   "execution_count": 11,
   "metadata": {},
   "outputs": [
    {
     "name": "stdout",
     "output_type": "stream",
     "text": [
      "{\"detail\":\"Failed to generate response from Ollama\"}"
     ]
    }
   ],
   "source": [
    "!curl -X POST \"http://127.0.0.1:8000/cortex/generate\" \\\n",
    "-H \"Content-Type: application/json\" \\\n",
    "-d '{ \\\n",
    "  \"model\": \"llama3\", \\\n",
    "  \"prompt\": \"What is the capital of France?\" \\\n",
    "}'\n"
   ]
  },
  {
   "cell_type": "code",
   "execution_count": 6,
   "metadata": {},
   "outputs": [
    {
     "name": "stdout",
     "output_type": "stream",
     "text": [
      "{\"response\":\"Here's one:\\n\\nWhy don't scientists trust atoms?\\n\\nBecause they make up everything!\\n\\nHope that made you giggle! Do you want to hear another one?\",\"model\":\"llama3\",\"context\":[],\"duration\":1219391860}"
     ]
    }
   ],
   "source": [
    "!curl -X POST \"http://127.0.0.1:8000/cortex/chat\" \\\n",
    "-H \"Content-Type: application/json\" \\\n",
    "-d '{  \\\n",
    "  \"model\": \"llama3\",  \\\n",
    "  \"messages\": [  \\\n",
    "    {  \\\n",
    "      \"role\": \"user\",  \\\n",
    "      \"content\": \"Tell me a joke.\"  \\\n",
    "    } \\\n",
    "  ], \\\n",
    "  \"stream\": false \\\n",
    "}'"
   ]
  },
  {
   "cell_type": "code",
   "execution_count": 8,
   "metadata": {},
   "outputs": [
    {
     "name": "stdout",
     "output_type": "stream",
     "text": [
      "{\"detail\":\"Not Found\"}"
     ]
    }
   ],
   "source": [
    "# Get status of models\n",
    "!curl -X GET \"http://127.0.0.1:8000/ollama/status\"\n",
    "\n"
   ]
  },
  {
   "cell_type": "code",
   "execution_count": null,
   "metadata": {},
   "outputs": [],
   "source": [
    "# List all models\n",
    "!curl -X GET \"http://127.0.0.1:8000/ollama/models\"\n",
    "\n"
   ]
  },
  {
   "cell_type": "code",
   "execution_count": null,
   "metadata": {},
   "outputs": [],
   "source": [
    "\n",
    "# Pull a new model\n",
    "!curl -X POST \"http://127.0.0.1:8000/ollama/models/pull\" \\\n",
    "-H \"Content-Type: application/json\" \\\n",
    "-d '{ \\\n",
    "  \"model_name\": \"llama3\" \\\n",
    "}'\n",
    "\n"
   ]
  },
  {
   "cell_type": "code",
   "execution_count": null,
   "metadata": {},
   "outputs": [],
   "source": [
    "# Delete a model\n",
    "!curl -X DELETE \"http://<your-api-url>/ollama/models/llama3\"\n"
   ]
  },
  {
   "cell_type": "code",
   "execution_count": null,
   "metadata": {},
   "outputs": [],
   "source": [
    "\n",
    "# Analyze an image\n",
    "!curl -X POST \"http://127.0.0.1:8000/ollama/analyze-image?model=llava\" \\\n",
    "-F \"file=@/path/to/your/image.jpg\"\n",
    "\n"
   ]
  },
  {
   "cell_type": "code",
   "execution_count": 9,
   "metadata": {},
   "outputs": [
    {
     "name": "stdout",
     "output_type": "stream",
     "text": [
      "{\"detail\":\"Not Found\"}"
     ]
    }
   ],
   "source": [
    "# Generate embeddings\n",
    "!curl -X POST \"http://127.0.0.1:8000/ollama/embeddings\" \\\n",
    "-H \"Content-Type: application/json\" \\\n",
    "-d '{ \\\n",
    "  \"model\": \"llama3\", \\\n",
    "  \"text\": \"The quick brown fox jumps over the lazy dog.\" \\\n",
    "}'"
   ]
  }
 ],
 "metadata": {
  "kernelspec": {
   "display_name": ".venv",
   "language": "python",
   "name": "python3"
  },
  "language_info": {
   "codemirror_mode": {
    "name": "ipython",
    "version": 3
   },
   "file_extension": ".py",
   "mimetype": "text/x-python",
   "name": "python",
   "nbconvert_exporter": "python",
   "pygments_lexer": "ipython3",
   "version": "3.11.2"
  }
 },
 "nbformat": 4,
 "nbformat_minor": 2
}
