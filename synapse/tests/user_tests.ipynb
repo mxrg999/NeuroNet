{
 "cells": [
  {
   "cell_type": "code",
   "execution_count": 28,
   "metadata": {},
   "outputs": [
    {
     "name": "stdout",
     "output_type": "stream",
     "text": [
      "{\"message\":\"User created successfully\",\"user_id\":\"4:dc4d70a3-c271-4015-8396-2729a21be068:23\",\"username\":\"max\",\"email\":\"max@example.com\",\"metadata\":{\"preferences\":{\"theme\":\"dark\",\"notifications\":true}}}"
     ]
    }
   ],
   "source": [
    "!curl -X POST \"http://localhost:8000/users/\" -H \"Content-Type: application/json\" -d '{ \\\n",
    "    \"username\": \"max\", \\\n",
    "    \"email\": \"max@example.com\", \\\n",
    "    \"metadata\": {\"preferences\": {\"theme\": \"dark\", \"notifications\": true}} \\\n",
    "}'\n"
   ]
  },
  {
   "cell_type": "code",
   "execution_count": 29,
   "metadata": {},
   "outputs": [
    {
     "name": "stdout",
     "output_type": "stream",
     "text": [
      "{\"detail\":\"User with username 'max' already exists.\"}"
     ]
    }
   ],
   "source": [
    "!curl -X POST \"http://localhost:8000/users/\" -H \"Content-Type: application/json\" -d '{ \\\n",
    "    \"username\": \"max\", \\\n",
    "    \"email\": \"max2@example.com\", \\\n",
    "    \"metadata\": {\"preferences\": {\"theme\": \"light\", \"notifications\": false}} \\\n",
    "}'\n",
    "\n"
   ]
  },
  {
   "cell_type": "code",
   "execution_count": 30,
   "metadata": {},
   "outputs": [
    {
     "name": "stdout",
     "output_type": "stream",
     "text": [
      "{\"metadata\":{\"preferences\":{\"theme\":\"dark\",\"notifications\":true}},\"updated_at\":\"2024-05-19T12:47:09.703415\",\"created_at\":\"2024-05-19T12:47:09.703415\",\"email\":\"max@example.com\",\"username\":\"max\",\"id\":\"4:dc4d70a3-c271-4015-8396-2729a21be068:23\"}"
     ]
    }
   ],
   "source": [
    "!curl -X GET \"http://localhost:8000/users/username/max\"\n"
   ]
  },
  {
   "cell_type": "code",
   "execution_count": 31,
   "metadata": {},
   "outputs": [
    {
     "name": "stdout",
     "output_type": "stream",
     "text": [
      "{\"metadata\":{\"preferences\":{\"theme\":\"dark\",\"notifications\":true}},\"updated_at\":\"2024-05-19T12:47:09.703415\",\"created_at\":\"2024-05-19T12:47:09.703415\",\"email\":\"max@example.com\",\"username\":\"max\",\"id\":\"4:dc4d70a3-c271-4015-8396-2729a21be068:23\"}"
     ]
    }
   ],
   "source": [
    "!curl -X GET \"http://localhost:8000/users/id/4:dc4d70a3-c271-4015-8396-2729a21be068:23\"\n"
   ]
  },
  {
   "cell_type": "code",
   "execution_count": 27,
   "metadata": {},
   "outputs": [
    {
     "name": "stdout",
     "output_type": "stream",
     "text": [
      "{\"message\":\"User deleted successfully\",\"user_id\":\"4:dc4d70a3-c271-4015-8396-2729a21be068:22\"}"
     ]
    }
   ],
   "source": [
    "!curl -X DELETE \"http://localhost:8000/users/4:dc4d70a3-c271-4015-8396-2729a21be068:22\"\n"
   ]
  }
 ],
 "metadata": {
  "kernelspec": {
   "display_name": ".venv",
   "language": "python",
   "name": "python3"
  },
  "language_info": {
   "codemirror_mode": {
    "name": "ipython",
    "version": 3
   },
   "file_extension": ".py",
   "mimetype": "text/x-python",
   "name": "python",
   "nbconvert_exporter": "python",
   "pygments_lexer": "ipython3",
   "version": "3.11.2"
  }
 },
 "nbformat": 4,
 "nbformat_minor": 2
}
