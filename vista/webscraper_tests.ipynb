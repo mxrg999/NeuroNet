{
 "cells": [
  {
   "cell_type": "code",
   "execution_count": null,
   "metadata": {},
   "outputs": [],
   "source": [
    "!pip install scrapegraphai"
   ]
  },
  {
   "cell_type": "code",
   "execution_count": null,
   "metadata": {},
   "outputs": [],
   "source": [
    "from scrapegraphai.graphs import SmartScraperGraph\n",
    "\n",
    "graph_config = {\n",
    "    \"llm\": {\n",
    "        \"model\": \"ollama/mistral\",\n",
    "        \"temperature\": 0,\n",
    "        \"format\": \"json\",  # Ollama needs the format to be specified explicitly\n",
    "        \"base_url\": \"http://cortex:11434\",  # set Ollama URL\n",
    "    },\n",
    "    \"embeddings\": {\n",
    "        \"model\": \"ollama/nomic-embed-text\",\n",
    "        \"base_url\": \"http://cortex:11434\",  # set Ollama URL\n",
    "    },\n",
    "    \"verbose\": True,\n",
    "}\n",
    "\n",
    "smart_scraper_graph = SmartScraperGraph(\n",
    "    prompt=\"List me all the projects with their descriptions\",\n",
    "    # also accepts a string with the already downloaded HTML code\n",
    "    source=\"https://perinim.github.io/projects\",\n",
    "    config=graph_config\n",
    ")\n",
    "\n",
    "result = smart_scraper_graph.run()\n",
    "print(result)\n"
   ]
  },
  {
   "cell_type": "code",
   "execution_count": 8,
   "metadata": {},
   "outputs": [
    {
     "name": "stdout",
     "output_type": "stream",
     "text": [
      "{\"model\":\"llama3\",\"created_at\":\"2024-05-26T19:36:45.280316195Z\",\"message\":{\"role\":\"assistant\",\"content\":\"Artificial Intelligence (AI) refers to the development of computer systems that can perform tasks that would typically require human intelligence, such as:\\n\\n1. **Learning**: AI systems can learn from data, improve their performance over time, and adapt to new situations.\\n2. **Reasoning**: AI systems can draw conclusions, make decisions, and solve problems based on available information.\\n3. **Perception**: AI systems can interpret and understand visual, auditory, or textual input (e.g., images, speech, text).\\n4. **Problem-solving**: AI systems can identify and resolve complex problems using algorithms and heuristics.\\n\\nAI involves various techniques, such as:\\n\\n1. **Machine learning**: Training models on data to make predictions or take actions.\\n2. **Deep learning**: Using neural networks to analyze complex patterns in data.\\n3. **Rule-based systems**: Programming rules and logic to govern AI's behavior.\\n4. **Natural language processing** (NLP): Analyzing, understanding, and generating human-like text.\\n\\nAI applications are diverse and can be found in various areas, including:\\n\\n1. **Computer vision**: Image recognition, object detection, facial recognition.\\n2. **Speech recognition**: Voice assistants, speech-to-text systems.\\n3. **Robotics**: Autonomous robots, robotic arms, self-driving vehicles.\\n4. **Healthcare**: Medical diagnosis, treatment planning, patient monitoring.\\n5. **Finance**: Portfolio management, risk analysis, investment advice.\\n6. **Customer service**: Chatbots, virtual assistants, automated support.\\n7. **Gaming**: AI-powered game characters, level design, game mechanics.\\n\\nAs AI continues to evolve, it has the potential to transform many aspects of our lives, from simplifying daily tasks to revolutionizing industries and improving human decision-making processes.\\n\\nWhat would you like to know more about?\"},\"done\":true,\"total_duration\":14281817488,\"load_duration\":3086850356,\"prompt_eval_count\":14,\"prompt_eval_duration\":155573000,\"eval_count\":368,\"eval_duration\":10873720000}"
     ]
    }
   ],
   "source": [
    "!curl -X POST http://cortex:11434/api/chat \\\n",
    "-H \"Content-Type: application/json\" \\\n",
    "-d '{ \\\n",
    "  \"model\": \"llama3\", \\\n",
    "  \"messages\": [ \\\n",
    "    { \"role\": \"user\", \"content\": \"What is AI?\" } \\\n",
    "  ], \\\n",
    "  \"stream\": false \\\n",
    "}'\n",
    "\n"
   ]
  },
  {
   "cell_type": "markdown",
   "metadata": {},
   "source": [
    "python webscraper_tests_copy.py         󰌠 3.11.2 (NeuroNet)\n",
    "Audio saved to /home/mxrg/Documents/GitHub/NeuroNet/vista/audio_summary.mp3\n",
    "{'detailed_audio_summary_of_projects': {'projects': [{'title': 'Rotary Pendulum RL', 'description': 'Open Source project aimed at controlling a real life rotary pendulum using RL algorithms'}, {'title': 'DQN Implementation from scratch', 'description': 'Developed a Deep Q-Network algorithm to train a simple and double pendulum'}, {'title': 'Multi Agents HAED', 'description': 'University project which focuses on simulating a multi-agent system to perform environment mapping. Agents, equipped with sensors, explore and record their surroundings, considering uncertainties in their readings.'}, {'title': 'Wireless ESC for Modular Drones', 'description': 'Modular drone architecture proposal and proof of concept. The project received maximum grade.'}]}}"
   ]
  }
 ],
 "metadata": {
  "kernelspec": {
   "display_name": ".venv",
   "language": "python",
   "name": "python3"
  },
  "language_info": {
   "codemirror_mode": {
    "name": "ipython",
    "version": 3
   },
   "file_extension": ".py",
   "mimetype": "text/x-python",
   "name": "python",
   "nbconvert_exporter": "python",
   "pygments_lexer": "ipython3",
   "version": "3.11.2"
  }
 },
 "nbformat": 4,
 "nbformat_minor": 2
}
